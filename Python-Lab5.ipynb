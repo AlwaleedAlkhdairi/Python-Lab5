{
 "cells": [
  {
   "cell_type": "markdown",
   "id": "71449d6f",
   "metadata": {},
   "source": [
    "# My Python Lab 5 : Lists\n",
    "Alwaleed Alkhdairi\n",
    "## Introduction\n",
    "Welcome to the Python List Operations Program! In this program, we will be working with the following list: [5, 4, 17, 19, 30, 2, 7, 10, 45]."
   ]
  },
  {
   "cell_type": "markdown",
   "id": "4ab128b8",
   "metadata": {},
   "source": [
    " #### Q1: Our first task is to sum all the items in the list. You'll learn how to efficiently calculate the sum using Python."
   ]
  },
  {
   "cell_type": "code",
   "execution_count": 17,
   "id": "c1599177",
   "metadata": {},
   "outputs": [
    {
     "name": "stdout",
     "output_type": "stream",
     "text": [
      "139\n",
      "139\n"
     ]
    }
   ],
   "source": [
    "following_list = [5, 4, 17, 19, 30, 2, 7, 10, 45]\n",
    "#print(sum(following_list))\n",
    "#use for loop\n",
    "\n",
    "def total_list(sumList):\n",
    "    total = 0\n",
    "    for x in sumList:\n",
    "        total += x\n",
    "    return total\n",
    "\n",
    "print(total_list(following_list))"
   ]
  },
  {
   "cell_type": "markdown",
   "id": "544ade19",
   "metadata": {},
   "source": [
    "#### Q2: Write a Python program to get the largest number from the list."
   ]
  },
  {
   "cell_type": "code",
   "execution_count": 24,
   "id": "bccb0554",
   "metadata": {},
   "outputs": [
    {
     "data": {
      "text/plain": [
       "45"
      ]
     },
     "execution_count": 24,
     "metadata": {},
     "output_type": "execute_result"
    }
   ],
   "source": [
    "#max(following_list)\n",
    "#use for loop\n",
    "\n",
    "max_num = following_list[0]\n",
    "\n",
    "for x in following_list:\n",
    "    if x > max_num:\n",
    "        max_num = x\n",
    "        \n",
    "max_num"
   ]
  },
  {
   "cell_type": "markdown",
   "id": "0f410c2c",
   "metadata": {},
   "source": [
    "#### Q3: Use list comprehension, create a new list from the above list containing only even numbers. "
   ]
  },
  {
   "cell_type": "code",
   "execution_count": 25,
   "id": "8fc2b2ab",
   "metadata": {},
   "outputs": [
    {
     "data": {
      "text/plain": [
       "[4, 30, 2, 10]"
      ]
     },
     "execution_count": 25,
     "metadata": {},
     "output_type": "execute_result"
    }
   ],
   "source": [
    "new_list = [num for num in following_list if num % 2 == 0]\n",
    "new_list"
   ]
  },
  {
   "cell_type": "markdown",
   "id": "62ead136",
   "metadata": {},
   "source": [
    "#### Q4: Use list slicing to get a new list from the previous list starting from the start to the 5th element in the list."
   ]
  },
  {
   "cell_type": "code",
   "execution_count": 26,
   "id": "61182acd",
   "metadata": {},
   "outputs": [
    {
     "data": {
      "text/plain": [
       "[5, 4, 17, 19, 30]"
      ]
     },
     "execution_count": 26,
     "metadata": {},
     "output_type": "execute_result"
    }
   ],
   "source": [
    "# we take five element from element num 0 to 4 = 5 \n",
    "# 5 it is exclusive\n",
    "sub_list = following_list[0:5]\n",
    "sub_list"
   ]
  }
 ],
 "metadata": {
  "kernelspec": {
   "display_name": "Python 3 (ipykernel)",
   "language": "python",
   "name": "python3"
  },
  "language_info": {
   "codemirror_mode": {
    "name": "ipython",
    "version": 3
   },
   "file_extension": ".py",
   "mimetype": "text/x-python",
   "name": "python",
   "nbconvert_exporter": "python",
   "pygments_lexer": "ipython3",
   "version": "3.9.13"
  }
 },
 "nbformat": 4,
 "nbformat_minor": 5
}
